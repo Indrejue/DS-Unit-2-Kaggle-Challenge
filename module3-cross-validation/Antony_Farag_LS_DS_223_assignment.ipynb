{
 "cells": [
  {
   "cell_type": "markdown",
   "metadata": {},
   "source": [
    "Lambda School Data Science\n",
    "\n",
    "*Unit 2, Sprint 2, Module 3*\n",
    "\n",
    "---"
   ]
  },
  {
   "cell_type": "markdown",
   "metadata": {},
   "source": [
    "# Cross-Validation\n",
    "\n",
    "\n",
    "## Assignment\n",
    "- [ ] [Review requirements for your portfolio project](https://lambdaschool.github.io/ds/unit2), then submit your dataset.\n",
    "- [ ] Continue to participate in our Kaggle challenge. \n",
    "- [ ] Use scikit-learn for hyperparameter optimization with RandomizedSearchCV.\n",
    "- [ ] Submit your predictions to our Kaggle competition. (Go to our Kaggle InClass competition webpage. Use the blue **Submit Predictions** button to upload your CSV file. Or you can use the Kaggle API to submit your predictions.)\n",
    "- [ ] Commit your notebook to your fork of the GitHub repo.\n",
    "\n",
    "\n",
    "**You can't just copy** from the lesson notebook to this assignment.\n",
    "\n",
    "- Because the lesson was **regression**, but the assignment is **classification.**\n",
    "- Because the lesson used [TargetEncoder](https://contrib.scikit-learn.org/categorical-encoding/targetencoder.html), which doesn't work as-is for _multi-class_ classification.\n",
    "\n",
    "So you will have to adapt the example, which is good real-world practice.\n",
    "\n",
    "1. Use a model for classification, such as [RandomForestClassifier](https://scikit-learn.org/stable/modules/generated/sklearn.ensemble.RandomForestClassifier.html)\n",
    "2. Use hyperparameters that match the classifier, such as `randomforestclassifier__ ...`\n",
    "3. Use a metric for classification, such as [`scoring='accuracy'`](https://scikit-learn.org/stable/modules/model_evaluation.html#common-cases-predefined-values)\n",
    "4. If you’re doing a multi-class classification problem — such as whether a waterpump is functional, functional needs repair, or nonfunctional — then use a categorical encoding that works for multi-class classification, such as [OrdinalEncoder](https://contrib.scikit-learn.org/categorical-encoding/ordinal.html) (not [TargetEncoder](https://contrib.scikit-learn.org/categorical-encoding/targetencoder.html))\n",
    "\n",
    "\n",
    "\n",
    "## Stretch Goals\n",
    "\n",
    "### Reading\n",
    "- Jake VanderPlas, [Python Data Science Handbook, Chapter 5.3](https://jakevdp.github.io/PythonDataScienceHandbook/05.03-hyperparameters-and-model-validation.html), Hyperparameters and Model Validation\n",
    "- Jake VanderPlas, [Statistics for Hackers](https://speakerdeck.com/jakevdp/statistics-for-hackers?slide=107)\n",
    "- Ron Zacharski, [A Programmer's Guide to Data Mining, Chapter 5](http://guidetodatamining.com/chapter5/), 10-fold cross validation\n",
    "- Sebastian Raschka, [A Basic Pipeline and Grid Search Setup](https://github.com/rasbt/python-machine-learning-book/blob/master/code/bonus/svm_iris_pipeline_and_gridsearch.ipynb)\n",
    "- Peter Worcester, [A Comparison of Grid Search and Randomized Search Using Scikit Learn](https://blog.usejournal.com/a-comparison-of-grid-search-and-randomized-search-using-scikit-learn-29823179bc85)\n",
    "\n",
    "### Doing\n",
    "- Add your own stretch goals!\n",
    "- Try other [categorical encodings](https://contrib.scikit-learn.org/categorical-encoding/). See the previous assignment notebook for details.\n",
    "- In additon to `RandomizedSearchCV`, scikit-learn has [`GridSearchCV`](https://scikit-learn.org/stable/modules/generated/sklearn.model_selection.GridSearchCV.html). Another library called scikit-optimize has [`BayesSearchCV`](https://scikit-optimize.github.io/notebooks/sklearn-gridsearchcv-replacement.html). Experiment with these alternatives.\n",
    "- _[Introduction to Machine Learning with Python](http://shop.oreilly.com/product/0636920030515.do)_ discusses options for \"Grid-Searching Which Model To Use\" in Chapter 6:\n",
    "\n",
    "> You can even go further in combining GridSearchCV and Pipeline: it is also possible to search over the actual steps being performed in the pipeline (say whether to use StandardScaler or MinMaxScaler). This leads to an even bigger search space and should be considered carefully. Trying all possible solutions is usually not a viable machine learning strategy. However, here is an example comparing a RandomForestClassifier and an SVC ...\n",
    "\n",
    "The example is shown in [the accompanying notebook](https://github.com/amueller/introduction_to_ml_with_python/blob/master/06-algorithm-chains-and-pipelines.ipynb), code cells 35-37. Could you apply this concept to your own pipelines?\n"
   ]
  },
  {
   "cell_type": "markdown",
   "metadata": {},
   "source": [
    "### BONUS: Stacking!\n",
    "\n",
    "Here's some code you can use to \"stack\" multiple submissions, which is another form of ensembling:\n",
    "\n",
    "```python\n",
    "import pandas as pd\n",
    "\n",
    "# Filenames of your submissions you want to ensemble\n",
    "files = ['submission-01.csv', 'submission-02.csv', 'submission-03.csv']\n",
    "\n",
    "target = 'status_group'\n",
    "submissions = (pd.read_csv(file)[[target]] for file in files)\n",
    "ensemble = pd.concat(submissions, axis='columns')\n",
    "majority_vote = ensemble.mode(axis='columns')[0]\n",
    "\n",
    "sample_submission = pd.read_csv('sample_submission.csv')\n",
    "submission = sample_submission.copy()\n",
    "submission[target] = majority_vote\n",
    "submission.to_csv('my-ultimate-ensemble-submission.csv', index=False)\n",
    "```"
   ]
  },
  {
   "cell_type": "code",
   "execution_count": 1,
   "metadata": {},
   "outputs": [],
   "source": [
    "%%capture\n",
    "import sys\n",
    "\n",
    "# If you're on Colab:\n",
    "if 'google.colab' in sys.modules:\n",
    "    DATA_PATH = 'https://raw.githubusercontent.com/LambdaSchool/DS-Unit-2-Kaggle-Challenge/master/data/'\n",
    "    !pip install --upgrade category_encoders\n",
    "\n",
    "# If you're working locally:\n",
    "else:\n",
    "    DATA_PATH = '../data/'"
   ]
  },
  {
   "cell_type": "code",
   "execution_count": 2,
   "metadata": {},
   "outputs": [],
   "source": [
    "import pandas as pd\n",
    "\n",
    "# Merge train_features.csv & train_labels.csv\n",
    "train = pd.merge(pd.read_csv(DATA_PATH+'waterpumps/train_features.csv',na_values=-2.000000e-08), \n",
    "                 pd.read_csv(DATA_PATH+'waterpumps/train_labels.csv')).set_index('id')\n",
    "\n",
    "# Read test_features.csv & sample_submission.csv\n",
    "test = pd.read_csv(DATA_PATH+'waterpumps/test_features.csv').set_index('id')\n",
    "sample_submission = pd.read_csv(DATA_PATH+'waterpumps/sample_submission.csv')"
   ]
  },
  {
   "cell_type": "code",
   "execution_count": 3,
   "metadata": {},
   "outputs": [],
   "source": [
    "import numpy as np\n",
    "import matplotlib.pyplot as plt\n",
    "from sklearn.model_selection import train_test_split\n",
    "from sklearn.impute import SimpleImputer\n",
    "from sklearn.pipeline import make_pipeline\n",
    "from sklearn.preprocessing import StandardScaler\n",
    "from sklearn.tree import plot_tree\n",
    "from sklearn.ensemble import RandomForestClassifier\n",
    "from category_encoders import OneHotEncoder, OrdinalEncoder\n",
    "from sklearn.model_selection import GridSearchCV, RandomizedSearchCV"
   ]
  },
  {
   "cell_type": "code",
   "execution_count": 4,
   "metadata": {},
   "outputs": [],
   "source": [
    "def cleanup(df):\n",
    "  #columns assesed by human annalisis of a sample to be duplicates\n",
    "  df = df.drop(['recorded_by','extraction_type_group','extraction_type_class','quantity_group','waterpoint_type_group','source_type'],axis=1)\n",
    "  #making sure no nan's were acidentaly left in longitude or latitude columns as 0's\n",
    "  df['longitude']=df['longitude'].replace({0:np.NaN})\n",
    "  df['latitude']=df['latitude'].replace({0:np.NaN})\n",
    "  #drops columns with a lot of nan values greater than half\n",
    "  bad_cols = [col for col in df.columns\n",
    "           if df[col].count() < .5]\n",
    "  df.drop(columns=bad_cols, inplace=True)\n",
    "  #drops columns with high cordinality\n",
    "  high = [col for col in df.select_dtypes('object').columns\n",
    "                    if df[col].nunique() > 100]\n",
    "  df.drop(columns=high, inplace=True)\n",
    "  return df"
   ]
  },
  {
   "cell_type": "code",
   "execution_count": 5,
   "metadata": {},
   "outputs": [
    {
     "name": "stdout",
     "output_type": "stream",
     "text": [
      "<class 'pandas.core.frame.DataFrame'>\n",
      "Float64Index: 59399 entries, 69572.0 to 26348.0\n",
      "Data columns (total 26 columns):\n",
      " #   Column             Non-Null Count  Dtype  \n",
      "---  ------             --------------  -----  \n",
      " 0   amount_tsh         17761 non-null  float64\n",
      " 1   gps_height         38962 non-null  float64\n",
      " 2   longitude          57587 non-null  float64\n",
      " 3   latitude           57587 non-null  float64\n",
      " 4   num_private        757 non-null    float64\n",
      " 5   basin              59399 non-null  object \n",
      " 6   region             59399 non-null  object \n",
      " 7   region_code        59399 non-null  int64  \n",
      " 8   district_code      59376 non-null  float64\n",
      " 9   population         38019 non-null  float64\n",
      " 10  public_meeting     56066 non-null  object \n",
      " 11  scheme_management  55522 non-null  object \n",
      " 12  permit             56343 non-null  object \n",
      " 13  construction_year  38691 non-null  float64\n",
      " 14  extraction_type    59399 non-null  object \n",
      " 15  management         59399 non-null  object \n",
      " 16  management_group   59399 non-null  object \n",
      " 17  payment            59399 non-null  object \n",
      " 18  payment_type       59399 non-null  object \n",
      " 19  water_quality      59399 non-null  object \n",
      " 20  quality_group      59399 non-null  object \n",
      " 21  quantity           59399 non-null  object \n",
      " 22  source             59399 non-null  object \n",
      " 23  source_class       59399 non-null  object \n",
      " 24  waterpoint_type    59399 non-null  object \n",
      " 25  status_group       59399 non-null  object \n",
      "dtypes: float64(8), int64(1), object(17)\n",
      "memory usage: 12.2+ MB\n"
     ]
    }
   ],
   "source": [
    "train=cleanup(train)\n",
    "train.info()"
   ]
  },
  {
   "cell_type": "code",
   "execution_count": 6,
   "metadata": {},
   "outputs": [],
   "source": [
    "target = 'status_group'\n",
    "y_train = train[target]\n",
    "X_train = train.drop(columns=target)\n"
   ]
  },
  {
   "cell_type": "code",
   "execution_count": 14,
   "metadata": {},
   "outputs": [],
   "source": [
    "forest_model = make_pipeline(\n",
    "    OrdinalEncoder(),\n",
    "    SimpleImputer(),\n",
    "    RandomForestClassifier(max_samples=.5,\n",
    "                           random_state=42,\n",
    "                           n_jobs=-1)\n",
    ")\n",
    "params = {\n",
    "    'randomforestclassifier__n_estimators': range(50,1001,10),\n",
    "    'randomforestclassifier__max_depth': range(15,31,5),\n",
    "}\n",
    "\n",
    "grid = GridSearchCV(\n",
    "    forest_model,\n",
    "    param_grid = params,\n",
    "    cv=5,\n",
    "    n_jobs=-1,\n",
    "    verbose=10\n",
    ")"
   ]
  },
  {
   "cell_type": "code",
   "execution_count": 15,
   "metadata": {},
   "outputs": [
    {
     "name": "stdout",
     "output_type": "stream",
     "text": [
      "Fitting 5 folds for each of 384 candidates, totalling 1920 fits\n"
     ]
    },
    {
     "name": "stderr",
     "output_type": "stream",
     "text": [
      "[Parallel(n_jobs=-1)]: Using backend LokyBackend with 24 concurrent workers.\n",
      "[Parallel(n_jobs=-1)]: Done   2 tasks      | elapsed:    1.4s\n",
      "[Parallel(n_jobs=-1)]: Done  13 tasks      | elapsed:    3.2s\n",
      "[Parallel(n_jobs=-1)]: Done  24 tasks      | elapsed:    8.3s\n",
      "[Parallel(n_jobs=-1)]: Done  37 tasks      | elapsed:   11.5s\n",
      "[Parallel(n_jobs=-1)]: Done  50 tasks      | elapsed:   15.2s\n",
      "[Parallel(n_jobs=-1)]: Done  65 tasks      | elapsed:   22.1s\n",
      "[Parallel(n_jobs=-1)]: Done  80 tasks      | elapsed:   29.6s\n",
      "[Parallel(n_jobs=-1)]: Done  97 tasks      | elapsed:   38.7s\n",
      "[Parallel(n_jobs=-1)]: Done 114 tasks      | elapsed:   46.2s\n",
      "[Parallel(n_jobs=-1)]: Done 133 tasks      | elapsed:  1.1min\n",
      "[Parallel(n_jobs=-1)]: Done 152 tasks      | elapsed:  1.2min\n",
      "[Parallel(n_jobs=-1)]: Done 173 tasks      | elapsed:  1.5min\n",
      "[Parallel(n_jobs=-1)]: Done 194 tasks      | elapsed:  1.9min\n",
      "C:\\Users\\Antony\\anaconda3\\lib\\site-packages\\joblib\\externals\\loky\\process_executor.py:688: UserWarning: A worker stopped while some jobs were given to the executor. This can be caused by a too short worker timeout or by a memory leak.\n",
      "  warnings.warn(\n",
      "[Parallel(n_jobs=-1)]: Done 217 tasks      | elapsed:  2.2min\n",
      "[Parallel(n_jobs=-1)]: Done 240 tasks      | elapsed:  2.6min\n",
      "[Parallel(n_jobs=-1)]: Done 265 tasks      | elapsed:  3.2min\n",
      "[Parallel(n_jobs=-1)]: Done 290 tasks      | elapsed:  3.7min\n",
      "[Parallel(n_jobs=-1)]: Done 317 tasks      | elapsed:  4.3min\n",
      "[Parallel(n_jobs=-1)]: Done 344 tasks      | elapsed:  4.9min\n",
      "[Parallel(n_jobs=-1)]: Done 373 tasks      | elapsed:  5.7min\n",
      "[Parallel(n_jobs=-1)]: Done 402 tasks      | elapsed:  6.5min\n",
      "[Parallel(n_jobs=-1)]: Done 433 tasks      | elapsed:  7.5min\n",
      "[Parallel(n_jobs=-1)]: Done 464 tasks      | elapsed:  8.6min\n",
      "[Parallel(n_jobs=-1)]: Done 497 tasks      | elapsed:  8.9min\n",
      "[Parallel(n_jobs=-1)]: Done 530 tasks      | elapsed:  9.1min\n",
      "[Parallel(n_jobs=-1)]: Done 565 tasks      | elapsed:  9.4min\n",
      "[Parallel(n_jobs=-1)]: Done 600 tasks      | elapsed:  9.7min\n",
      "[Parallel(n_jobs=-1)]: Done 637 tasks      | elapsed: 10.2min\n",
      "[Parallel(n_jobs=-1)]: Done 674 tasks      | elapsed: 10.9min\n",
      "[Parallel(n_jobs=-1)]: Done 713 tasks      | elapsed: 11.7min\n",
      "[Parallel(n_jobs=-1)]: Done 752 tasks      | elapsed: 12.5min\n",
      "[Parallel(n_jobs=-1)]: Done 793 tasks      | elapsed: 13.6min\n",
      "[Parallel(n_jobs=-1)]: Done 834 tasks      | elapsed: 14.7min\n",
      "[Parallel(n_jobs=-1)]: Done 877 tasks      | elapsed: 16.2min\n",
      "[Parallel(n_jobs=-1)]: Done 920 tasks      | elapsed: 17.8min\n",
      "[Parallel(n_jobs=-1)]: Done 965 tasks      | elapsed: 18.8min\n",
      "[Parallel(n_jobs=-1)]: Done 1010 tasks      | elapsed: 19.1min\n",
      "[Parallel(n_jobs=-1)]: Done 1057 tasks      | elapsed: 19.5min\n",
      "[Parallel(n_jobs=-1)]: Done 1104 tasks      | elapsed: 20.1min\n",
      "[Parallel(n_jobs=-1)]: Done 1153 tasks      | elapsed: 21.0min\n",
      "[Parallel(n_jobs=-1)]: Done 1202 tasks      | elapsed: 22.0min\n",
      "[Parallel(n_jobs=-1)]: Done 1253 tasks      | elapsed: 23.1min\n",
      "[Parallel(n_jobs=-1)]: Done 1304 tasks      | elapsed: 24.7min\n",
      "[Parallel(n_jobs=-1)]: Done 1357 tasks      | elapsed: 26.5min\n",
      "[Parallel(n_jobs=-1)]: Done 1410 tasks      | elapsed: 28.6min\n",
      "[Parallel(n_jobs=-1)]: Done 1465 tasks      | elapsed: 29.4min\n",
      "[Parallel(n_jobs=-1)]: Done 1520 tasks      | elapsed: 29.8min\n",
      "[Parallel(n_jobs=-1)]: Done 1577 tasks      | elapsed: 30.5min\n",
      "[Parallel(n_jobs=-1)]: Done 1634 tasks      | elapsed: 31.5min\n",
      "[Parallel(n_jobs=-1)]: Done 1693 tasks      | elapsed: 32.8min\n",
      "[Parallel(n_jobs=-1)]: Done 1752 tasks      | elapsed: 34.3min\n",
      "[Parallel(n_jobs=-1)]: Done 1813 tasks      | elapsed: 36.2min\n",
      "[Parallel(n_jobs=-1)]: Done 1920 out of 1920 | elapsed: 39.9min finished\n"
     ]
    },
    {
     "data": {
      "text/plain": [
       "GridSearchCV(cv=5,\n",
       "             estimator=Pipeline(steps=[('ordinalencoder', OrdinalEncoder()),\n",
       "                                       ('simpleimputer', SimpleImputer()),\n",
       "                                       ('randomforestclassifier',\n",
       "                                        RandomForestClassifier(max_samples=0.5,\n",
       "                                                               n_jobs=-1,\n",
       "                                                               random_state=42))]),\n",
       "             n_jobs=-1,\n",
       "             param_grid={'randomforestclassifier__max_depth': range(15, 31, 5),\n",
       "                         'randomforestclassifier__n_estimators': range(50, 1001, 10)},\n",
       "             verbose=10)"
      ]
     },
     "execution_count": 15,
     "metadata": {},
     "output_type": "execute_result"
    }
   ],
   "source": [
    "grid.fit(X_train,y_train)"
   ]
  },
  {
   "cell_type": "code",
   "execution_count": 16,
   "metadata": {},
   "outputs": [
    {
     "name": "stdout",
     "output_type": "stream",
     "text": [
      "0.8116466315935968\n",
      "Pipeline(steps=[('ordinalencoder',\n",
      "                 OrdinalEncoder(cols=['basin', 'region', 'public_meeting',\n",
      "                                      'scheme_management', 'permit',\n",
      "                                      'extraction_type', 'management',\n",
      "                                      'management_group', 'payment',\n",
      "                                      'payment_type', 'water_quality',\n",
      "                                      'quality_group', 'quantity', 'source',\n",
      "                                      'source_class', 'waterpoint_type'],\n",
      "                                mapping=[{'col': 'basin',\n",
      "                                          'data_type': dtype('O'),\n",
      "                                          'mapping': Lake Nyasa                 1\n",
      "Lake...\n",
      "unknown        3\n",
      "NaN           -2\n",
      "dtype: int64},\n",
      "                                         {'col': 'waterpoint_type',\n",
      "                                          'data_type': dtype('O'),\n",
      "                                          'mapping': communal standpipe             1\n",
      "communal standpipe multiple    2\n",
      "hand pump                      3\n",
      "other                          4\n",
      "improved spring                5\n",
      "cattle trough                  6\n",
      "dam                            7\n",
      "NaN                           -2\n",
      "dtype: int64}])),\n",
      "                ('simpleimputer', SimpleImputer()),\n",
      "                ('randomforestclassifier',\n",
      "                 RandomForestClassifier(max_depth=25, max_samples=0.5,\n",
      "                                        n_estimators=930, n_jobs=-1,\n",
      "                                        random_state=42))])\n",
      "{'randomforestclassifier__max_depth': 25, 'randomforestclassifier__n_estimators': 930}\n"
     ]
    }
   ],
   "source": [
    "print(grid.best_score_)\n",
    "print(grid.best_estimator_)\n",
    "print(grid.best_params_)"
   ]
  },
  {
   "cell_type": "code",
   "execution_count": 17,
   "metadata": {},
   "outputs": [],
   "source": [
    "X_test = cleanup(test)\n",
    "pre = grid.predict(X_test)\n",
    "submission = pd.DataFrame(pre,columns=['status_group'],index=X_test.index)\n",
    "submission['id']=submission.index\n",
    "submission= submission[['id','status_group']]\n",
    "submission.reset_index(drop=True,inplace=True)\n",
    "submission.to_csv('grided_forest.csv',index=False)"
   ]
  },
  {
   "cell_type": "code",
   "execution_count": 18,
   "metadata": {},
   "outputs": [
    {
     "data": {
      "text/html": [
       "<div>\n",
       "<style scoped>\n",
       "    .dataframe tbody tr th:only-of-type {\n",
       "        vertical-align: middle;\n",
       "    }\n",
       "\n",
       "    .dataframe tbody tr th {\n",
       "        vertical-align: top;\n",
       "    }\n",
       "\n",
       "    .dataframe thead th {\n",
       "        text-align: right;\n",
       "    }\n",
       "</style>\n",
       "<table border=\"1\" class=\"dataframe\">\n",
       "  <thead>\n",
       "    <tr style=\"text-align: right;\">\n",
       "      <th></th>\n",
       "      <th>id</th>\n",
       "      <th>status_group</th>\n",
       "    </tr>\n",
       "  </thead>\n",
       "  <tbody>\n",
       "    <tr>\n",
       "      <th>0</th>\n",
       "      <td>50785</td>\n",
       "      <td>functional</td>\n",
       "    </tr>\n",
       "    <tr>\n",
       "      <th>1</th>\n",
       "      <td>51630</td>\n",
       "      <td>functional</td>\n",
       "    </tr>\n",
       "    <tr>\n",
       "      <th>2</th>\n",
       "      <td>17168</td>\n",
       "      <td>functional</td>\n",
       "    </tr>\n",
       "    <tr>\n",
       "      <th>3</th>\n",
       "      <td>45559</td>\n",
       "      <td>non functional</td>\n",
       "    </tr>\n",
       "    <tr>\n",
       "      <th>4</th>\n",
       "      <td>49871</td>\n",
       "      <td>functional</td>\n",
       "    </tr>\n",
       "  </tbody>\n",
       "</table>\n",
       "</div>"
      ],
      "text/plain": [
       "      id    status_group\n",
       "0  50785      functional\n",
       "1  51630      functional\n",
       "2  17168      functional\n",
       "3  45559  non functional\n",
       "4  49871      functional"
      ]
     },
     "execution_count": 18,
     "metadata": {},
     "output_type": "execute_result"
    }
   ],
   "source": [
    "submission.head()"
   ]
  },
  {
   "cell_type": "code",
   "execution_count": null,
   "metadata": {},
   "outputs": [],
   "source": []
  }
 ],
 "metadata": {
  "kernelspec": {
   "display_name": "Python 3",
   "language": "python",
   "name": "python3"
  },
  "language_info": {
   "codemirror_mode": {
    "name": "ipython",
    "version": 3
   },
   "file_extension": ".py",
   "mimetype": "text/x-python",
   "name": "python",
   "nbconvert_exporter": "python",
   "pygments_lexer": "ipython3",
   "version": "3.8.3"
  }
 },
 "nbformat": 4,
 "nbformat_minor": 4
}

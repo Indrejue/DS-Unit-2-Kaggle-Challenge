{
 "cells": [
  {
   "cell_type": "markdown",
   "metadata": {},
   "source": [
    "Lambda School Data Science\n",
    "\n",
    "*Unit 2, Sprint 2, Module 4*\n",
    "\n",
    "---"
   ]
  },
  {
   "cell_type": "markdown",
   "metadata": {
    "colab_type": "text",
    "id": "nCc3XZEyG3XV"
   },
   "source": [
    "# Classification Metrics\n",
    "\n",
    "## Assignment\n",
    "- [ ] If you haven't yet, [review requirements for your portfolio project](https://lambdaschool.github.io/ds/unit2), then submit your dataset.\n",
    "- [ ] Plot a confusion matrix for your Tanzania Waterpumps model.\n",
    "- [ ] Continue to participate in our Kaggle challenge. Every student should have made at least one submission that scores at least 70% accuracy (well above the majority class baseline).\n",
    "- [ ] Submit your final predictions to our Kaggle competition. Optionally, go to **My Submissions**, and _\"you may select up to 1 submission to be used to count towards your final leaderboard score.\"_\n",
    "- [ ] Commit your notebook to your fork of the GitHub repo.\n",
    "- [ ] Read [Maximizing Scarce Maintenance Resources with Data: Applying predictive modeling, precision at k, and clustering to optimize impact](http://archive.is/DelgE), by Lambda DS3 student Michael Brady. His blog post extends the Tanzania Waterpumps scenario, far beyond what's in the lecture notebook.\n",
    "\n",
    "\n",
    "## Stretch Goals\n",
    "\n",
    "### Reading\n",
    "\n",
    "- [Attacking discrimination with smarter machine learning](https://research.google.com/bigpicture/attacking-discrimination-in-ml/), by Google Research, with  interactive visualizations. _\"A threshold classifier essentially makes a yes/no decision, putting things in one category or another. We look at how these classifiers work, ways they can potentially be unfair, and how you might turn an unfair classifier into a fairer one. As an illustrative example, we focus on loan granting scenarios where a bank may grant or deny a loan based on a single, automatically computed number such as a credit score.\"_\n",
    "- [Notebook about how to calculate expected value from a confusion matrix by treating it as a cost-benefit matrix](https://github.com/podopie/DAT18NYC/blob/master/classes/13-expected_value_cost_benefit_analysis.ipynb)\n",
    "- [Visualizing Machine Learning Thresholds to Make Better Business Decisions](https://blog.insightdatascience.com/visualizing-machine-learning-thresholds-to-make-better-business-decisions-4ab07f823415)\n",
    "\n",
    "\n",
    "### Doing\n",
    "- [ ] Share visualizations in our Slack channel!\n",
    "- [ ] RandomizedSearchCV / GridSearchCV, for model selection. (See module 3 assignment notebook)\n",
    "- [ ] Stacking Ensemble. (See module 3 assignment notebook)\n",
    "- [ ] More Categorical Encoding. (See module 2 assignment notebook)"
   ]
  },
  {
   "cell_type": "code",
   "execution_count": 2,
   "metadata": {
    "colab": {},
    "colab_type": "code",
    "id": "lsbRiKBoB5RE"
   },
   "outputs": [],
   "source": [
    "%%capture\n",
    "import sys\n",
    "\n",
    "# If you're on Colab:\n",
    "if 'google.colab' in sys.modules:\n",
    "    DATA_PATH = 'https://raw.githubusercontent.com/LambdaSchool/DS-Unit-2-Kaggle-Challenge/master/data/'\n",
    "    !pip install category_encoders==2.*\n",
    "\n",
    "# If you're working locally:\n",
    "else:\n",
    "    DATA_PATH = '../data/'"
   ]
  },
  {
   "cell_type": "code",
   "execution_count": 3,
   "metadata": {},
   "outputs": [],
   "source": [
    "import numpy as np\n",
    "import pandas as pd\n",
    "import matplotlib.pyplot as plt\n",
    "from sklearn.model_selection import train_test_split\n",
    "from sklearn.metrics import accuracy_score, plot_confusion_matrix, classification_report\n",
    "from sklearn.impute import SimpleImputer\n",
    "from sklearn.pipeline import make_pipeline\n",
    "from sklearn.preprocessing import StandardScaler\n",
    "from sklearn.tree import plot_tree\n",
    "from sklearn.ensemble import RandomForestClassifier, BaggingClassifier\n",
    "from category_encoders import OneHotEncoder, OrdinalEncoder\n",
    "from sklearn.model_selection import GridSearchCV, RandomizedSearchCV\n",
    "from skopt import BayesSearchCV\n",
    "from skopt.space import Real, Categorical, Integer\n",
    "from sklearn.tree import DecisionTreeClassifier"
   ]
  },
  {
   "cell_type": "code",
   "execution_count": 21,
   "metadata": {},
   "outputs": [],
   "source": [
    "def cleanup(df):\n",
    "  #columns assesed by human annalisis of a sample to be duplicates\n",
    "  df = df.drop(['recorded_by','extraction_type_group','extraction_type_class','quantity_group','waterpoint_type_group','source_type'],axis=1)\n",
    "  #making sure no nan's were acidentaly left in longitude or latitude columns as 0's\n",
    "  df['longitude']=df['longitude'].replace({0:np.NaN, -2.000000e-08:np.NaN})\n",
    "  df['latitude']=df['latitude'].replace({0:np.NaN, -2.000000e-08:np.NaN})\n",
    "  #drops columns with a lot of nan values greater than half\n",
    "  bad_cols = [col for col in df.columns\n",
    "           if df[col].count() < .5]\n",
    "  df.drop(columns=bad_cols, inplace=True)\n",
    "  #drops columns with high cordinality\n",
    "  high = [col for col in df.select_dtypes('object').columns\n",
    "                    if df[col].nunique() > 100]\n",
    "  df.drop(columns=high, inplace=True)\n",
    "  return df"
   ]
  },
  {
   "cell_type": "code",
   "execution_count": 22,
   "metadata": {
    "colab": {},
    "colab_type": "code",
    "id": "BVA1lph8CcNX"
   },
   "outputs": [],
   "source": [
    "\n",
    "\n",
    "# Merge train_features.csv & train_labels.csv\n",
    "train = cleanup(pd.merge(pd.read_csv(DATA_PATH+'waterpumps/train_features.csv'), \n",
    "                 pd.read_csv(DATA_PATH+'waterpumps/train_labels.csv')).set_index('id'))\n",
    "\n",
    "# Read test_features.csv & sample_submission.csv\n",
    "test = cleanup(pd.read_csv(DATA_PATH+'waterpumps/test_features.csv').set_index('id'))\n",
    "sample_submission = pd.read_csv(DATA_PATH+'waterpumps/sample_submission.csv')"
   ]
  },
  {
   "cell_type": "code",
   "execution_count": 23,
   "metadata": {},
   "outputs": [],
   "source": [
    "target = 'status_group'\n",
    "y_train = train[target]\n",
    "X_train = train.drop(columns=target)\n"
   ]
  },
  {
   "cell_type": "code",
   "execution_count": 7,
   "metadata": {},
   "outputs": [
    {
     "name": "stdout",
     "output_type": "stream",
     "text": [
      "<class 'pandas.core.frame.DataFrame'>\n",
      "Int64Index: 59400 entries, 69572 to 26348\n",
      "Data columns (total 26 columns):\n",
      " #   Column             Non-Null Count  Dtype  \n",
      "---  ------             --------------  -----  \n",
      " 0   amount_tsh         59400 non-null  float64\n",
      " 1   gps_height         59400 non-null  int64  \n",
      " 2   longitude          57588 non-null  float64\n",
      " 3   latitude           57588 non-null  float64\n",
      " 4   num_private        59400 non-null  int64  \n",
      " 5   basin              59400 non-null  object \n",
      " 6   region             59400 non-null  object \n",
      " 7   region_code        59400 non-null  int64  \n",
      " 8   district_code      59400 non-null  int64  \n",
      " 9   population         59400 non-null  int64  \n",
      " 10  public_meeting     56066 non-null  object \n",
      " 11  scheme_management  55523 non-null  object \n",
      " 12  permit             56344 non-null  object \n",
      " 13  construction_year  59400 non-null  int64  \n",
      " 14  extraction_type    59400 non-null  object \n",
      " 15  management         59400 non-null  object \n",
      " 16  management_group   59400 non-null  object \n",
      " 17  payment            59400 non-null  object \n",
      " 18  payment_type       59400 non-null  object \n",
      " 19  water_quality      59400 non-null  object \n",
      " 20  quality_group      59400 non-null  object \n",
      " 21  quantity           59400 non-null  object \n",
      " 22  source             59400 non-null  object \n",
      " 23  source_class       59400 non-null  object \n",
      " 24  waterpoint_type    59400 non-null  object \n",
      " 25  status_group       59400 non-null  object \n",
      "dtypes: float64(3), int64(6), object(17)\n",
      "memory usage: 12.2+ MB\n"
     ]
    }
   ],
   "source": [
    "train.info()"
   ]
  },
  {
   "cell_type": "code",
   "execution_count": 9,
   "metadata": {},
   "outputs": [],
   "source": [
    "bag_tree = make_pipeline(\n",
    "    OrdinalEncoder(),\n",
    "    SimpleImputer(),\n",
    "    StandardScaler(),\n",
    "    BaggingClassifier(DecisionTreeClassifier(),\n",
    "                      max_samples=.5,\n",
    "                      random_state=42,\n",
    "                      n_jobs=-1,\n",
    "                      bootstrap=False,\n",
    "                      bootstrap_features= False)\n",
    ")\n",
    "params = {\n",
    "    'baggingclassifier__n_estimators': range(500,1001,10),\n",
    "}\n",
    "\n",
    "baggrid = GridSearchCV(\n",
    "    bag_tree,\n",
    "    param_grid = params,\n",
    "    cv=10,\n",
    "    n_jobs=-1,\n",
    "    verbose=10\n",
    ")"
   ]
  },
  {
   "cell_type": "code",
   "execution_count": 10,
   "metadata": {},
   "outputs": [
    {
     "name": "stdout",
     "output_type": "stream",
     "text": [
      "Fitting 10 folds for each of 51 candidates, totalling 510 fits\n"
     ]
    },
    {
     "name": "stderr",
     "output_type": "stream",
     "text": [
      "[Parallel(n_jobs=-1)]: Using backend LokyBackend with 24 concurrent workers.\n",
      "[Parallel(n_jobs=-1)]: Done   2 tasks      | elapsed:  2.9min\n",
      "[Parallel(n_jobs=-1)]: Done  13 tasks      | elapsed:  3.2min\n",
      "[Parallel(n_jobs=-1)]: Done  24 tasks      | elapsed:  3.3min\n",
      "[Parallel(n_jobs=-1)]: Done  37 tasks      | elapsed:  6.4min\n",
      "[Parallel(n_jobs=-1)]: Done  50 tasks      | elapsed:  9.6min\n",
      "[Parallel(n_jobs=-1)]: Done  65 tasks      | elapsed:  9.9min\n",
      "[Parallel(n_jobs=-1)]: Done  80 tasks      | elapsed: 13.4min\n",
      "[Parallel(n_jobs=-1)]: Done  97 tasks      | elapsed: 16.8min\n",
      "[Parallel(n_jobs=-1)]: Done 114 tasks      | elapsed: 17.2min\n",
      "[Parallel(n_jobs=-1)]: Done 133 tasks      | elapsed: 21.0min\n",
      "[Parallel(n_jobs=-1)]: Done 152 tasks      | elapsed: 24.9min\n",
      "[Parallel(n_jobs=-1)]: Done 173 tasks      | elapsed: 28.9min\n",
      "[Parallel(n_jobs=-1)]: Done 194 tasks      | elapsed: 33.0min\n",
      "[Parallel(n_jobs=-1)]: Done 217 tasks      | elapsed: 37.1min\n",
      "C:\\Users\\Antony\\anaconda3\\lib\\site-packages\\joblib\\externals\\loky\\process_executor.py:688: UserWarning: A worker stopped while some jobs were given to the executor. This can be caused by a too short worker timeout or by a memory leak.\n",
      "  warnings.warn(\n",
      "[Parallel(n_jobs=-1)]: Done 240 tasks      | elapsed: 39.2min\n",
      "[Parallel(n_jobs=-1)]: Done 265 tasks      | elapsed: 46.0min\n",
      "[Parallel(n_jobs=-1)]: Done 290 tasks      | elapsed: 50.9min\n",
      "[Parallel(n_jobs=-1)]: Done 317 tasks      | elapsed: 55.6min\n",
      "[Parallel(n_jobs=-1)]: Done 344 tasks      | elapsed: 62.1min\n",
      "[Parallel(n_jobs=-1)]: Done 373 tasks      | elapsed: 68.6min\n",
      "[Parallel(n_jobs=-1)]: Done 402 tasks      | elapsed: 74.4min\n",
      "[Parallel(n_jobs=-1)]: Done 433 tasks      | elapsed: 80.4min\n",
      "[Parallel(n_jobs=-1)]: Done 510 out of 510 | elapsed: 97.9min finished\n"
     ]
    },
    {
     "data": {
      "text/plain": [
       "GridSearchCV(cv=10,\n",
       "             estimator=Pipeline(steps=[('ordinalencoder', OrdinalEncoder()),\n",
       "                                       ('simpleimputer', SimpleImputer()),\n",
       "                                       ('standardscaler', StandardScaler()),\n",
       "                                       ('baggingclassifier',\n",
       "                                        BaggingClassifier(base_estimator=DecisionTreeClassifier(),\n",
       "                                                          bootstrap=False,\n",
       "                                                          max_samples=0.5,\n",
       "                                                          n_jobs=-1,\n",
       "                                                          random_state=42))]),\n",
       "             n_jobs=-1,\n",
       "             param_grid={'baggingclassifier__n_estimators': range(500, 1001, 10)},\n",
       "             verbose=10)"
      ]
     },
     "execution_count": 10,
     "metadata": {},
     "output_type": "execute_result"
    }
   ],
   "source": [
    "baggrid.fit(X_train,y_train)"
   ]
  },
  {
   "cell_type": "code",
   "execution_count": 11,
   "metadata": {},
   "outputs": [
    {
     "name": "stdout",
     "output_type": "stream",
     "text": [
      "0.8099999999999999\n",
      "Pipeline(steps=[('ordinalencoder',\n",
      "                 OrdinalEncoder(cols=['basin', 'region', 'public_meeting',\n",
      "                                      'scheme_management', 'permit',\n",
      "                                      'extraction_type', 'management',\n",
      "                                      'management_group', 'payment',\n",
      "                                      'payment_type', 'water_quality',\n",
      "                                      'quality_group', 'quantity', 'source',\n",
      "                                      'source_class', 'waterpoint_type'],\n",
      "                                mapping=[{'col': 'basin',\n",
      "                                          'data_type': dtype('O'),\n",
      "                                          'mapping': Lake Nyasa                 1\n",
      "Lake...\n",
      "                                          'data_type': dtype('O'),\n",
      "                                          'mapping': communal standpipe             1\n",
      "communal standpipe multiple    2\n",
      "hand pump                      3\n",
      "other                          4\n",
      "improved spring                5\n",
      "cattle trough                  6\n",
      "dam                            7\n",
      "NaN                           -2\n",
      "dtype: int64}])),\n",
      "                ('simpleimputer', SimpleImputer()),\n",
      "                ('standardscaler', StandardScaler()),\n",
      "                ('baggingclassifier',\n",
      "                 BaggingClassifier(base_estimator=DecisionTreeClassifier(),\n",
      "                                   bootstrap=False, max_samples=0.5,\n",
      "                                   n_estimators=760, n_jobs=-1,\n",
      "                                   random_state=42))])\n",
      "{'baggingclassifier__n_estimators': 760}\n"
     ]
    }
   ],
   "source": [
    "print(baggrid.best_score_)\n",
    "print(baggrid.best_estimator_)\n",
    "print(baggrid.best_params_)"
   ]
  },
  {
   "cell_type": "code",
   "execution_count": 12,
   "metadata": {},
   "outputs": [],
   "source": [
    "# Train-val split to apply the predictor to and create the confusion matrix\n",
    "X_train2, X_val, y_train2, y_val = train_test_split(X_train, y_train, test_size=0.2, random_state=42)"
   ]
  },
  {
   "cell_type": "code",
   "execution_count": 14,
   "metadata": {},
   "outputs": [
    {
     "data": {
      "image/png": "[encoded data removed]",
      "text/plain": [
       "<Figure size 432x288 with 2 Axes>"
      ]
     },
     "metadata": {
      "needs_background": "light"
     },
     "output_type": "display_data"
    }
   ],
   "source": [
    "#plot the confusion matrix for the bagged clasifier\n",
    "plot_confusion_matrix(baggrid,X_val,y_val,values_format='.0f',\n",
    "                      display_labels=['no repair','repair','totaly busted'])\n",
    "plt.show()"
   ]
  },
  {
   "cell_type": "code",
   "execution_count": 15,
   "metadata": {},
   "outputs": [
    {
     "name": "stdout",
     "output_type": "stream",
     "text": [
      "                         precision    recall  f1-score   support\n",
      "\n",
      "             functional       0.99      1.00      0.99      6457\n",
      "functional needs repair       0.97      0.95      0.96       851\n",
      "         non functional       1.00      0.99      0.99      4572\n",
      "\n",
      "               accuracy                           0.99     11880\n",
      "              macro avg       0.99      0.98      0.98     11880\n",
      "           weighted avg       0.99      0.99      0.99     11880\n",
      "\n"
     ]
    }
   ],
   "source": [
    "print(classification_report(y_val,baggrid.predict(X_val)))"
   ]
  },
  {
   "cell_type": "code",
   "execution_count": 16,
   "metadata": {},
   "outputs": [],
   "source": [
    "bag_tree2 = make_pipeline(\n",
    "    OrdinalEncoder(),\n",
    "    SimpleImputer(),\n",
    "    StandardScaler(),\n",
    "    BaggingClassifier(DecisionTreeClassifier(),\n",
    "                      max_samples=.5,\n",
    "                      random_state=42,\n",
    "                      n_jobs=-1,\n",
    "                      bootstrap=False,\n",
    "                      bootstrap_features= False)\n",
    ")\n",
    "params = {\n",
    "    'baggingclassifier__n_estimators': range(50,501,10),\n",
    "}\n",
    "\n",
    "baggrid2 = GridSearchCV(\n",
    "    bag_tree2,\n",
    "    param_grid = params,\n",
    "    cv=10,\n",
    "    n_jobs=-1,\n",
    "    verbose=10\n",
    ")"
   ]
  },
  {
   "cell_type": "code",
   "execution_count": 17,
   "metadata": {},
   "outputs": [
    {
     "name": "stdout",
     "output_type": "stream",
     "text": [
      "Fitting 10 folds for each of 46 candidates, totalling 460 fits\n"
     ]
    },
    {
     "name": "stderr",
     "output_type": "stream",
     "text": [
      "[Parallel(n_jobs=-1)]: Using backend LokyBackend with 24 concurrent workers.\n",
      "[Parallel(n_jobs=-1)]: Done   2 tasks      | elapsed:   11.5s\n",
      "[Parallel(n_jobs=-1)]: Done  13 tasks      | elapsed:   25.9s\n",
      "[Parallel(n_jobs=-1)]: Done  24 tasks      | elapsed:   30.6s\n",
      "[Parallel(n_jobs=-1)]: Done  37 tasks      | elapsed:   59.4s\n",
      "[Parallel(n_jobs=-1)]: Done  50 tasks      | elapsed:  1.3min\n",
      "[Parallel(n_jobs=-1)]: Done  65 tasks      | elapsed:  1.7min\n",
      "[Parallel(n_jobs=-1)]: Done  80 tasks      | elapsed:  2.2min\n",
      "[Parallel(n_jobs=-1)]: Done  97 tasks      | elapsed:  2.9min\n",
      "[Parallel(n_jobs=-1)]: Done 114 tasks      | elapsed:  3.8min\n",
      "[Parallel(n_jobs=-1)]: Done 133 tasks      | elapsed:  4.1min\n",
      "[Parallel(n_jobs=-1)]: Done 152 tasks      | elapsed:  5.2min\n",
      "[Parallel(n_jobs=-1)]: Done 173 tasks      | elapsed:  6.5min\n",
      "[Parallel(n_jobs=-1)]: Done 194 tasks      | elapsed:  8.0min\n",
      "[Parallel(n_jobs=-1)]: Done 217 tasks      | elapsed:  9.6min\n",
      "[Parallel(n_jobs=-1)]: Done 240 tasks      | elapsed: 11.5min\n",
      "[Parallel(n_jobs=-1)]: Done 265 tasks      | elapsed: 13.5min\n",
      "[Parallel(n_jobs=-1)]: Done 290 tasks      | elapsed: 15.6min\n",
      "[Parallel(n_jobs=-1)]: Done 317 tasks      | elapsed: 18.2min\n",
      "[Parallel(n_jobs=-1)]: Done 344 tasks      | elapsed: 20.9min\n",
      "[Parallel(n_jobs=-1)]: Done 373 tasks      | elapsed: 24.2min\n",
      "[Parallel(n_jobs=-1)]: Done 402 tasks      | elapsed: 27.2min\n",
      "[Parallel(n_jobs=-1)]: Done 460 out of 460 | elapsed: 32.7min remaining:    0.0s\n",
      "[Parallel(n_jobs=-1)]: Done 460 out of 460 | elapsed: 32.7min finished\n"
     ]
    },
    {
     "data": {
      "text/plain": [
       "GridSearchCV(cv=10,\n",
       "             estimator=Pipeline(steps=[('ordinalencoder', OrdinalEncoder()),\n",
       "                                       ('simpleimputer', SimpleImputer()),\n",
       "                                       ('standardscaler', StandardScaler()),\n",
       "                                       ('baggingclassifier',\n",
       "                                        BaggingClassifier(base_estimator=DecisionTreeClassifier(),\n",
       "                                                          bootstrap=False,\n",
       "                                                          max_samples=0.5,\n",
       "                                                          n_jobs=-1,\n",
       "                                                          random_state=42))]),\n",
       "             n_jobs=-1,\n",
       "             param_grid={'baggingclassifier__n_estimators': range(50, 501, 10)},\n",
       "             verbose=10)"
      ]
     },
     "execution_count": 17,
     "metadata": {},
     "output_type": "execute_result"
    }
   ],
   "source": [
    "baggrid2.fit(X_train,y_train)"
   ]
  },
  {
   "cell_type": "code",
   "execution_count": 19,
   "metadata": {},
   "outputs": [
    {
     "name": "stdout",
     "output_type": "stream",
     "text": [
      "0.81010101010101\n",
      "Pipeline(steps=[('ordinalencoder',\n",
      "                 OrdinalEncoder(cols=['basin', 'region', 'public_meeting',\n",
      "                                      'scheme_management', 'permit',\n",
      "                                      'extraction_type', 'management',\n",
      "                                      'management_group', 'payment',\n",
      "                                      'payment_type', 'water_quality',\n",
      "                                      'quality_group', 'quantity', 'source',\n",
      "                                      'source_class', 'waterpoint_type'],\n",
      "                                mapping=[{'col': 'basin',\n",
      "                                          'data_type': dtype('O'),\n",
      "                                          'mapping': Lake Nyasa                 1\n",
      "Lake...\n",
      "                                          'data_type': dtype('O'),\n",
      "                                          'mapping': communal standpipe             1\n",
      "communal standpipe multiple    2\n",
      "hand pump                      3\n",
      "other                          4\n",
      "improved spring                5\n",
      "cattle trough                  6\n",
      "dam                            7\n",
      "NaN                           -2\n",
      "dtype: int64}])),\n",
      "                ('simpleimputer', SimpleImputer()),\n",
      "                ('standardscaler', StandardScaler()),\n",
      "                ('baggingclassifier',\n",
      "                 BaggingClassifier(base_estimator=DecisionTreeClassifier(),\n",
      "                                   bootstrap=False, max_samples=0.5,\n",
      "                                   n_estimators=320, n_jobs=-1,\n",
      "                                   random_state=42))])\n",
      "{'baggingclassifier__n_estimators': 320}\n"
     ]
    }
   ],
   "source": [
    "print(baggrid2.best_score_)\n",
    "print(baggrid2.best_estimator_)\n",
    "print(baggrid2.best_params_)"
   ]
  },
  {
   "cell_type": "code",
   "execution_count": 25,
   "metadata": {},
   "outputs": [],
   "source": [
    "def cleanup2(df):\n",
    "  #columns assesed by human annalisis of a sample to be duplicates\n",
    "  df = df.drop(['recorded_by','extraction_type_group','quantity'],axis=1)\n",
    "  #making sure no nan's were acidentaly left in longitude or latitude columns as 0's\n",
    "  df['longitude']=df['longitude'].replace({0:np.NaN, -2.000000e-08:np.NaN})\n",
    "  df['latitude']=df['latitude'].replace({0:np.NaN, -2.000000e-08:np.NaN})\n",
    "  #drops columns with a lot of nan values greater than half\n",
    "  bad_cols = [col for col in df.columns\n",
    "           if df[col].count() < .5]\n",
    "  df.drop(columns=bad_cols, inplace=True)\n",
    "  #drops columns with high cordinality\n",
    "  high = [col for col in df.select_dtypes('object').columns\n",
    "                    if df[col].nunique() > 100]\n",
    "  df.drop(columns=high, inplace=True)\n",
    "  return df\n",
    "\n",
    "# Merge train_features.csv & train_labels.csv\n",
    "train5 = cleanup2(pd.merge(pd.read_csv(DATA_PATH+'waterpumps/train_features.csv'), \n",
    "                 pd.read_csv(DATA_PATH+'waterpumps/train_labels.csv')).set_index('id'))\n"
   ]
  },
  {
   "cell_type": "code",
   "execution_count": 41,
   "metadata": {},
   "outputs": [],
   "source": [
    "\n",
    "# Read test_features.csv & sample_submission.csv\n",
    "test5 = cleanup2(pd.read_csv(DATA_PATH+'waterpumps/test_features.csv').set_index('id'))"
   ]
  },
  {
   "cell_type": "code",
   "execution_count": 26,
   "metadata": {},
   "outputs": [],
   "source": [
    "y_train5 = train5[target]\n",
    "X_train5 = train5.drop(columns=target)"
   ]
  },
  {
   "cell_type": "code",
   "execution_count": 34,
   "metadata": {},
   "outputs": [],
   "source": [
    "forest_model = make_pipeline(\n",
    "    OrdinalEncoder(),\n",
    "    SimpleImputer(),\n",
    "    RandomForestClassifier(max_samples=.5,\n",
    "                           random_state=42,\n",
    "                           n_jobs=-1)\n",
    ")\n",
    "params = {\n",
    "    'randomforestclassifier__n_estimators': range(50,1001,10),\n",
    "    'randomforestclassifier__max_depth': range(15,36,5)\n",
    "}\n",
    "\n",
    "grid5 = GridSearchCV(\n",
    "    forest_model,\n",
    "    param_grid = params,\n",
    "    cv=10,\n",
    "    n_jobs=-1,\n",
    "    verbose=10\n",
    ")"
   ]
  },
  {
   "cell_type": "code",
   "execution_count": 35,
   "metadata": {},
   "outputs": [
    {
     "name": "stdout",
     "output_type": "stream",
     "text": [
      "Fitting 10 folds for each of 480 candidates, totalling 4800 fits\n"
     ]
    },
    {
     "name": "stderr",
     "output_type": "stream",
     "text": [
      "[Parallel(n_jobs=-1)]: Using backend LokyBackend with 24 concurrent workers.\n",
      "[Parallel(n_jobs=-1)]: Done   2 tasks      | elapsed:    3.2s\n",
      "[Parallel(n_jobs=-1)]: Done  13 tasks      | elapsed:    5.7s\n",
      "[Parallel(n_jobs=-1)]: Done  24 tasks      | elapsed:    8.6s\n",
      "[Parallel(n_jobs=-1)]: Done  37 tasks      | elapsed:   11.3s\n",
      "[Parallel(n_jobs=-1)]: Done  50 tasks      | elapsed:   15.3s\n",
      "[Parallel(n_jobs=-1)]: Done  65 tasks      | elapsed:   19.9s\n",
      "[Parallel(n_jobs=-1)]: Done  80 tasks      | elapsed:   24.4s\n",
      "[Parallel(n_jobs=-1)]: Done  97 tasks      | elapsed:   31.7s\n",
      "[Parallel(n_jobs=-1)]: Done 114 tasks      | elapsed:   39.3s\n",
      "[Parallel(n_jobs=-1)]: Done 133 tasks      | elapsed:   49.1s\n",
      "[Parallel(n_jobs=-1)]: Done 152 tasks      | elapsed:   56.3s\n",
      "[Parallel(n_jobs=-1)]: Done 173 tasks      | elapsed:  1.1min\n",
      "[Parallel(n_jobs=-1)]: Done 194 tasks      | elapsed:  1.3min\n",
      "[Parallel(n_jobs=-1)]: Done 217 tasks      | elapsed:  1.6min\n",
      "[Parallel(n_jobs=-1)]: Done 240 tasks      | elapsed:  1.8min\n",
      "[Parallel(n_jobs=-1)]: Done 265 tasks      | elapsed:  2.2min\n",
      "[Parallel(n_jobs=-1)]: Done 290 tasks      | elapsed:  2.5min\n",
      "[Parallel(n_jobs=-1)]: Done 317 tasks      | elapsed:  3.0min\n",
      "[Parallel(n_jobs=-1)]: Done 344 tasks      | elapsed:  3.3min\n",
      "[Parallel(n_jobs=-1)]: Done 373 tasks      | elapsed:  3.8min\n",
      "[Parallel(n_jobs=-1)]: Done 402 tasks      | elapsed:  4.2min\n",
      "[Parallel(n_jobs=-1)]: Done 433 tasks      | elapsed:  4.8min\n",
      "[Parallel(n_jobs=-1)]: Done 464 tasks      | elapsed:  5.5min\n",
      "[Parallel(n_jobs=-1)]: Done 497 tasks      | elapsed:  6.1min\n",
      "[Parallel(n_jobs=-1)]: Done 530 tasks      | elapsed:  6.8min\n",
      "[Parallel(n_jobs=-1)]: Done 565 tasks      | elapsed:  7.8min\n",
      "[Parallel(n_jobs=-1)]: Done 600 tasks      | elapsed:  8.6min\n",
      "[Parallel(n_jobs=-1)]: Done 637 tasks      | elapsed:  9.7min\n",
      "[Parallel(n_jobs=-1)]: Done 674 tasks      | elapsed: 10.6min\n",
      "[Parallel(n_jobs=-1)]: Done 713 tasks      | elapsed: 11.7min\n",
      "[Parallel(n_jobs=-1)]: Done 752 tasks      | elapsed: 13.0min\n",
      "[Parallel(n_jobs=-1)]: Done 793 tasks      | elapsed: 14.4min\n",
      "[Parallel(n_jobs=-1)]: Done 834 tasks      | elapsed: 15.7min\n",
      "[Parallel(n_jobs=-1)]: Done 877 tasks      | elapsed: 17.2min\n",
      "[Parallel(n_jobs=-1)]: Done 920 tasks      | elapsed: 18.8min\n",
      "[Parallel(n_jobs=-1)]: Done 965 tasks      | elapsed: 19.9min\n",
      "[Parallel(n_jobs=-1)]: Done 1010 tasks      | elapsed: 20.2min\n",
      "[Parallel(n_jobs=-1)]: Done 1057 tasks      | elapsed: 20.5min\n",
      "[Parallel(n_jobs=-1)]: Done 1104 tasks      | elapsed: 20.9min\n",
      "[Parallel(n_jobs=-1)]: Done 1153 tasks      | elapsed: 21.4min\n",
      "[Parallel(n_jobs=-1)]: Done 1202 tasks      | elapsed: 22.0min\n",
      "[Parallel(n_jobs=-1)]: Done 1253 tasks      | elapsed: 22.8min\n",
      "C:\\Users\\Antony\\anaconda3\\lib\\site-packages\\joblib\\externals\\loky\\process_executor.py:688: UserWarning: A worker stopped while some jobs were given to the executor. This can be caused by a too short worker timeout or by a memory leak.\n",
      "  warnings.warn(\n",
      "[Parallel(n_jobs=-1)]: Done 1304 tasks      | elapsed: 23.6min\n",
      "[Parallel(n_jobs=-1)]: Done 1357 tasks      | elapsed: 24.6min\n",
      "[Parallel(n_jobs=-1)]: Done 1410 tasks      | elapsed: 25.7min\n",
      "[Parallel(n_jobs=-1)]: Done 1465 tasks      | elapsed: 27.0min\n",
      "[Parallel(n_jobs=-1)]: Done 1520 tasks      | elapsed: 28.3min\n",
      "[Parallel(n_jobs=-1)]: Done 1577 tasks      | elapsed: 30.1min\n",
      "[Parallel(n_jobs=-1)]: Done 1634 tasks      | elapsed: 31.8min\n",
      "[Parallel(n_jobs=-1)]: Done 1693 tasks      | elapsed: 33.8min\n",
      "[Parallel(n_jobs=-1)]: Done 1752 tasks      | elapsed: 35.9min\n",
      "[Parallel(n_jobs=-1)]: Done 1813 tasks      | elapsed: 38.3min\n",
      "[Parallel(n_jobs=-1)]: Done 1874 tasks      | elapsed: 41.0min\n",
      "[Parallel(n_jobs=-1)]: Done 1937 tasks      | elapsed: 42.4min\n",
      "[Parallel(n_jobs=-1)]: Done 2000 tasks      | elapsed: 42.8min\n",
      "[Parallel(n_jobs=-1)]: Done 2065 tasks      | elapsed: 43.4min\n",
      "[Parallel(n_jobs=-1)]: Done 2130 tasks      | elapsed: 44.2min\n",
      "[Parallel(n_jobs=-1)]: Done 2197 tasks      | elapsed: 45.1min\n",
      "[Parallel(n_jobs=-1)]: Done 2264 tasks      | elapsed: 46.2min\n",
      "[Parallel(n_jobs=-1)]: Done 2333 tasks      | elapsed: 47.7min\n",
      "[Parallel(n_jobs=-1)]: Done 2402 tasks      | elapsed: 49.2min\n",
      "[Parallel(n_jobs=-1)]: Done 2473 tasks      | elapsed: 51.2min\n",
      "[Parallel(n_jobs=-1)]: Done 2544 tasks      | elapsed: 53.2min\n",
      "[Parallel(n_jobs=-1)]: Done 2617 tasks      | elapsed: 55.6min\n",
      "[Parallel(n_jobs=-1)]: Done 2690 tasks      | elapsed: 58.3min\n",
      "[Parallel(n_jobs=-1)]: Done 2765 tasks      | elapsed: 61.4min\n",
      "[Parallel(n_jobs=-1)]: Done 2840 tasks      | elapsed: 64.4min\n",
      "[Parallel(n_jobs=-1)]: Done 2917 tasks      | elapsed: 66.1min\n",
      "[Parallel(n_jobs=-1)]: Done 2994 tasks      | elapsed: 66.6min\n",
      "[Parallel(n_jobs=-1)]: Done 3073 tasks      | elapsed: 67.5min\n",
      "[Parallel(n_jobs=-1)]: Done 3152 tasks      | elapsed: 68.5min\n",
      "[Parallel(n_jobs=-1)]: Done 3233 tasks      | elapsed: 70.0min\n",
      "[Parallel(n_jobs=-1)]: Done 3314 tasks      | elapsed: 71.6min\n",
      "[Parallel(n_jobs=-1)]: Done 3397 tasks      | elapsed: 73.8min\n",
      "[Parallel(n_jobs=-1)]: Done 3480 tasks      | elapsed: 76.1min\n",
      "[Parallel(n_jobs=-1)]: Done 3565 tasks      | elapsed: 79.0min\n",
      "[Parallel(n_jobs=-1)]: Done 3650 tasks      | elapsed: 81.9min\n",
      "[Parallel(n_jobs=-1)]: Done 3737 tasks      | elapsed: 85.7min\n",
      "[Parallel(n_jobs=-1)]: Done 3824 tasks      | elapsed: 89.3min\n",
      "[Parallel(n_jobs=-1)]: Done 3913 tasks      | elapsed: 90.2min\n",
      "[Parallel(n_jobs=-1)]: Done 4002 tasks      | elapsed: 90.9min\n",
      "[Parallel(n_jobs=-1)]: Done 4093 tasks      | elapsed: 92.1min\n",
      "[Parallel(n_jobs=-1)]: Done 4184 tasks      | elapsed: 93.7min\n",
      "[Parallel(n_jobs=-1)]: Done 4277 tasks      | elapsed: 95.7min\n",
      "[Parallel(n_jobs=-1)]: Done 4370 tasks      | elapsed: 97.9min\n",
      "[Parallel(n_jobs=-1)]: Done 4465 tasks      | elapsed: 100.8min\n",
      "[Parallel(n_jobs=-1)]: Done 4560 tasks      | elapsed: 104.0min\n",
      "[Parallel(n_jobs=-1)]: Done 4657 tasks      | elapsed: 107.8min\n",
      "[Parallel(n_jobs=-1)]: Done 4800 out of 4800 | elapsed: 113.7min finished\n"
     ]
    },
    {
     "data": {
      "text/plain": [
       "GridSearchCV(cv=10,\n",
       "             estimator=Pipeline(steps=[('ordinalencoder', OrdinalEncoder()),\n",
       "                                       ('simpleimputer', SimpleImputer()),\n",
       "                                       ('randomforestclassifier',\n",
       "                                        RandomForestClassifier(max_samples=0.5,\n",
       "                                                               n_jobs=-1,\n",
       "                                                               random_state=42))]),\n",
       "             n_jobs=-1,\n",
       "             param_grid={'randomforestclassifier__max_depth': range(15, 36, 5),\n",
       "                         'randomforestclassifier__n_estimators': range(50, 1001, 10)},\n",
       "             verbose=10)"
      ]
     },
     "execution_count": 35,
     "metadata": {},
     "output_type": "execute_result"
    }
   ],
   "source": [
    "grid5.fit(X_train5,y_train5)"
   ]
  },
  {
   "cell_type": "code",
   "execution_count": 36,
   "metadata": {},
   "outputs": [
    {
     "name": "stdout",
     "output_type": "stream",
     "text": [
      "0.8147811447811447\n",
      "Pipeline(steps=[('ordinalencoder',\n",
      "                 OrdinalEncoder(cols=['basin', 'region', 'public_meeting',\n",
      "                                      'scheme_management', 'permit',\n",
      "                                      'extraction_type',\n",
      "                                      'extraction_type_class', 'management',\n",
      "                                      'management_group', 'payment',\n",
      "                                      'payment_type', 'water_quality',\n",
      "                                      'quality_group', 'quantity_group',\n",
      "                                      'source', 'source_type', 'source_class',\n",
      "                                      'waterpoint_type',\n",
      "                                      'waterpoint_type_group'],\n",
      "                                map...\n",
      "improved spring                5\n",
      "cattle trough                  6\n",
      "dam                            7\n",
      "NaN                           -2\n",
      "dtype: int64},\n",
      "                                         {'col': 'waterpoint_type_group',\n",
      "                                          'data_type': dtype('O'),\n",
      "                                          'mapping': communal standpipe    1\n",
      "hand pump             2\n",
      "other                 3\n",
      "improved spring       4\n",
      "cattle trough         5\n",
      "dam                   6\n",
      "NaN                  -2\n",
      "dtype: int64}])),\n",
      "                ('simpleimputer', SimpleImputer()),\n",
      "                ('randomforestclassifier',\n",
      "                 RandomForestClassifier(max_depth=25, max_samples=0.5,\n",
      "                                        n_estimators=770, n_jobs=-1,\n",
      "                                        random_state=42))])\n",
      "{'randomforestclassifier__max_depth': 25, 'randomforestclassifier__n_estimators': 770}\n"
     ]
    }
   ],
   "source": [
    "print(grid5.best_score_)\n",
    "print(grid5.best_estimator_)\n",
    "print(grid5.best_params_)"
   ]
  },
  {
   "cell_type": "code",
   "execution_count": 42,
   "metadata": {},
   "outputs": [],
   "source": [
    "X_test5 = test5\n",
    "pre = grid5.predict(X_test5)\n",
    "submission = pd.DataFrame(pre,columns=['status_group'],index=X_test5.index)\n",
    "submission['id']=submission.index\n",
    "submission= submission[['id','status_group']]\n",
    "submission.reset_index(drop=True,inplace=True)\n",
    "submission.to_csv('grided_forest_x.csv',index=False)"
   ]
  },
  {
   "cell_type": "code",
   "execution_count": 44,
   "metadata": {},
   "outputs": [],
   "source": [
    "X_test = test\n",
    "pre = baggrid2.predict(X_test)\n",
    "submission2 = pd.DataFrame(pre,columns=['status_group'],index=X_test.index)\n",
    "submission2['id']=submission2.index\n",
    "submission2= submission2[['id','status_group']]\n",
    "submission2.reset_index(drop=True,inplace=True)\n",
    "submission2.to_csv('bag_forest_x.csv',index=False)"
   ]
  },
  {
   "cell_type": "code",
   "execution_count": 45,
   "metadata": {},
   "outputs": [
    {
     "data": {
      "text/html": [
       "<div>\n",
       "<style scoped>\n",
       "    .dataframe tbody tr th:only-of-type {\n",
       "        vertical-align: middle;\n",
       "    }\n",
       "\n",
       "    .dataframe tbody tr th {\n",
       "        vertical-align: top;\n",
       "    }\n",
       "\n",
       "    .dataframe thead th {\n",
       "        text-align: right;\n",
       "    }\n",
       "</style>\n",
       "<table border=\"1\" class=\"dataframe\">\n",
       "  <thead>\n",
       "    <tr style=\"text-align: right;\">\n",
       "      <th></th>\n",
       "      <th>id</th>\n",
       "      <th>status_group</th>\n",
       "    </tr>\n",
       "  </thead>\n",
       "  <tbody>\n",
       "    <tr>\n",
       "      <th>0</th>\n",
       "      <td>50785</td>\n",
       "      <td>functional</td>\n",
       "    </tr>\n",
       "    <tr>\n",
       "      <th>1</th>\n",
       "      <td>51630</td>\n",
       "      <td>functional</td>\n",
       "    </tr>\n",
       "    <tr>\n",
       "      <th>2</th>\n",
       "      <td>17168</td>\n",
       "      <td>functional</td>\n",
       "    </tr>\n",
       "    <tr>\n",
       "      <th>3</th>\n",
       "      <td>45559</td>\n",
       "      <td>non functional</td>\n",
       "    </tr>\n",
       "    <tr>\n",
       "      <th>4</th>\n",
       "      <td>49871</td>\n",
       "      <td>functional</td>\n",
       "    </tr>\n",
       "  </tbody>\n",
       "</table>\n",
       "</div>"
      ],
      "text/plain": [
       "      id    status_group\n",
       "0  50785      functional\n",
       "1  51630      functional\n",
       "2  17168      functional\n",
       "3  45559  non functional\n",
       "4  49871      functional"
      ]
     },
     "execution_count": 45,
     "metadata": {},
     "output_type": "execute_result"
    }
   ],
   "source": [
    "submission2.head()"
   ]
  },
  {
   "cell_type": "code",
   "execution_count": null,
   "metadata": {},
   "outputs": [],
   "source": []
  }
 ],
 "metadata": {
  "kernelspec": {
   "display_name": "Python 3",
   "language": "python",
   "name": "python3"
  },
  "language_info": {
   "codemirror_mode": {
    "name": "ipython",
    "version": 3
   },
   "file_extension": ".py",
   "mimetype": "text/x-python",
   "name": "python",
   "nbconvert_exporter": "python",
   "pygments_lexer": "ipython3",
   "version": "3.8.3"
  }
 },
 "nbformat": 4,
 "nbformat_minor": 4
}
